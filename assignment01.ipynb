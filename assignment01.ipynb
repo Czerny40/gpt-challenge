{
 "cells": [
  {
   "cell_type": "code",
   "execution_count": 84,
   "metadata": {},
   "outputs": [],
   "source": [
    "from langchain.chat_models import ChatOpenAI\n",
    "from langchain.prompts import ChatPromptTemplate\n",
    "\n",
    "llm = ChatOpenAI(\n",
    "    model_name=\"gpt-4o-mini\", temperature=0.9\n",
    ")"
   ]
  },
  {
   "cell_type": "code",
   "execution_count": 86,
   "metadata": {},
   "outputs": [],
   "source": [
    "POEM_PROMPT = \"\"\"\n",
    "당신은 프로그래밍 언어의 특징을 시로 표현하는 전문 시인입니다.\n",
    "입력받은 프로그래밍 언어에 대해 다음 규칙을 따르는 시를 작성해주세요:\n",
    "\n",
    "1. 적당한 길이의 시를 작성하세요\n",
    "2. 프로그래밍 언어의 주요 특징을 은유적으로 표현하세요\n",
    "3. 기술적 용어와 시적 표현을 적절히 조화시키세요\n",
    "\n",
    "프로그래밍 언어 : {language}\n",
    "\n",
    "출력 형식 : 다른 설명이나 주석은 포함하지 마세요.\n",
    "\"\"\"\n",
    "\n",
    "EXPLANATION_PROMPT = \"\"\"\n",
    "당신은 시를 설명하는 전문가입니다.\n",
    "입력받은 시의 원문을 포함해 함께 다음 규칙을 따르는 간단한 설명을 작성해주세요:\n",
    "\n",
    "다음 규칙을 준수하세요:\n",
    "- 3-4문장으로 제한합니다\n",
    "- 전문 용어는 최소화하세요\n",
    "- 비유나 예시는 사용하지 마세요\n",
    "- 객관적 사실만 서술하세요\n",
    "\n",
    "시 내용: {poem}\n",
    "\n",
    "출력 형식:\n",
    "1) 시 원문\n",
    "2) 설명\n",
    "\"\"\""
   ]
  },
  {
   "cell_type": "code",
   "execution_count": null,
   "metadata": {},
   "outputs": [
    {
     "data": {
      "text/plain": [
       "AIMessage(content=\"1) 시 원문  \\n'파이썬 뱀의 유연함으로  코드의 숲을 미끄러지듯  검은 줄기 속 하얀 영혼  들꽃처럼 피어나는 변수들.  들숨 날숨의 반복 속에서  함수라 불리는 별들이  하늘에 흩어져 소통하니  모든 것이 연결된 듯 자유로이.  동적 타입 그 자유로움  변화무쌍한 생각의 바다  명확한 문법 심플한 구절  시처럼 흐르는 코드의 리듬.  클래스 안에 숨겨진 세계  객체의 품에 안겨  추상화는 마치 그림처럼  세상을 조각하는 손길.  파이썬 배움의 첫걸음  어린아이의 듯 순수한 눈빛  기술의 바다를 항해하며  모두의 손을 잡고 함께 노래하네.'\\n\\n2) 설명  \\n이 시는 프로그래밍 언어인 파이썬을 주제로 하여, 코드 작성 과정을 유연하고 자유로운 이미지로 표현합니다. 변수, 함수, 클래스와 같은 프로그래밍 요소들이 연결되어 있는 모습을 묘사하며, 기술의 배움이 순수하고 협력적인 과정임을 강조합니다. 또한, 문법의 간결함과 코딩의 리듬이 시적인 아름다움을 지닌다고 말합니다.\")"
      ]
     },
     "execution_count": 88,
     "metadata": {},
     "output_type": "execute_result"
    }
   ],
   "source": [
    "poem_template = ChatPromptTemplate.from_messages(\n",
    "    [\n",
    "        (\"system\", POEM_PROMPT),\n",
    "        (\"human\", \"{language}\"),\n",
    "    ]\n",
    ")\n",
    "\n",
    "explanation_template = ChatPromptTemplate.from_messages(\n",
    "    [\n",
    "        (\"system\", EXPLANATION_PROMPT),\n",
    "        (\"human\", \"{poem}\"),\n",
    "    ]\n",
    ")\n",
    "\n",
    "def poem_output(poem_response):\n",
    "    return {\"poem\": poem_response.content.replace(\"\\n\", \"\").replace(\",\", \"\")}\n",
    "\n",
    "poem_chain = poem_template | llm | poem_output\n",
    "explanation_chain = explanation_template | llm\n",
    "\n",
    "\n",
    "final_chain = {\"poem\": poem_chain} | explanation_chain\n",
    "\n",
    "result = final_chain.invoke({\"language\": \"Python\"})\n",
    "print(result.content)"
   ]
  },
  {
   "cell_type": "code",
   "execution_count": 69,
   "metadata": {},
   "outputs": [
    {
     "ename": "NameError",
     "evalue": "name 'poem_response' is not defined",
     "output_type": "error",
     "traceback": [
      "\u001b[1;31m---------------------------------------------------------------------------\u001b[0m",
      "\u001b[1;31mNameError\u001b[0m                                 Traceback (most recent call last)",
      "Cell \u001b[1;32mIn[69], line 1\u001b[0m\n\u001b[1;32m----> 1\u001b[0m \u001b[38;5;28mprint\u001b[39m(\u001b[43mpoem_response\u001b[49m[\u001b[38;5;124m\"\u001b[39m\u001b[38;5;124mpoem\u001b[39m\u001b[38;5;124m\"\u001b[39m])\n",
      "\u001b[1;31mNameError\u001b[0m: name 'poem_response' is not defined"
     ]
    }
   ],
   "source": [
    "print(poem_response[\"poem\"])"
   ]
  }
 ],
 "metadata": {
  "kernelspec": {
   "display_name": "env",
   "language": "python",
   "name": "python3"
  },
  "language_info": {
   "codemirror_mode": {
    "name": "ipython",
    "version": 3
   },
   "file_extension": ".py",
   "mimetype": "text/x-python",
   "name": "python",
   "nbconvert_exporter": "python",
   "pygments_lexer": "ipython3",
   "version": "3.11.8"
  }
 },
 "nbformat": 4,
 "nbformat_minor": 2
}

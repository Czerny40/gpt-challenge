{
 "cells": [
  {
   "cell_type": "code",
   "execution_count": 84,
   "metadata": {},
   "outputs": [],
   "source": [
    "from langchain.chat_models import ChatOpenAI\n",
    "from langchain.prompts import ChatPromptTemplate\n",
    "\n",
    "llm = ChatOpenAI(\n",
    "    model_name=\"gpt-3.5-turbo\", temperature=0.9\n",
    ")"
   ]
  },
  {
   "cell_type": "code",
   "execution_count": 86,
   "metadata": {},
   "outputs": [],
   "source": [
    "POEM_PROMPT = \"\"\"\n",
    "당신은 프로그래밍 언어의 특징을 시로 표현하는 전문 시인입니다.\n",
    "입력받은 프로그래밍 언어에 대해 다음 규칙을 따르는 시를 작성해주세요:\n",
    "\n",
    "1. 적당한 길이의 시를 작성하세요\n",
    "2. 프로그래밍 언어의 주요 특징을 은유적으로 표현하세요\n",
    "3. 기술적 용어와 시적 표현을 적절히 조화시키세요\n",
    "\n",
    "프로그래밍 언어 : {language}\n",
    "\n",
    "출력 형식 : 다른 설명이나 주석은 포함하지 마세요.\n",
    "\"\"\"\n",
    "\n",
    "EXPLANATION_PROMPT = \"\"\"\n",
    "당신은 시를 설명하는 전문가입니다.\n",
    "입력받은 시의 원문을 포함해 함께 다음 규칙을 따르는 간단한 설명을 작성해주세요:\n",
    "\n",
    "다음 규칙을 준수하세요:\n",
    "- 3-4문장으로 제한합니다\n",
    "- 전문 용어는 최소화하세요\n",
    "- 비유나 예시는 사용하지 마세요\n",
    "- 객관적 사실만 서술하세요\n",
    "\n",
    "시 내용: {poem}\n",
    "\n",
    "출력 형식:\n",
    "1) 시 원문\n",
    "2) 설명\n",
    "\"\"\""
   ]
  },
  {
   "cell_type": "code",
   "execution_count": 92,
   "metadata": {},
   "outputs": [],
   "source": [
    "poem_template = ChatPromptTemplate.from_messages(\n",
    "    [\n",
    "        (\"system\", POEM_PROMPT),\n",
    "        (\"human\", \"{language}\"),\n",
    "    ]\n",
    ")\n",
    "\n",
    "explanation_template = ChatPromptTemplate.from_messages(\n",
    "    [\n",
    "        (\"system\", EXPLANATION_PROMPT),\n",
    "        (\"human\", \"{poem}\"),\n",
    "    ]\n",
    ")\n",
    "\n",
    "def poem_output(poem_response):\n",
    "    return {\"poem\": poem_response.content.replace(\"\\n\", \"\").replace(\",\", \"\")}\n",
    "\n",
    "poem_chain = poem_template | llm\n",
    "explanation_chain = explanation_template | llm\n",
    "\n",
    "\n",
    "final_chain = {\"poem\": poem_chain} | explanation_chain\n",
    "\n",
    "result = final_chain.invoke({\"language\": \"Python\"})"
   ]
  },
  {
   "cell_type": "code",
   "execution_count": 93,
   "metadata": {},
   "outputs": [
    {
     "name": "stdout",
     "output_type": "stream",
     "text": [
      "1) 시 원문  \n",
      "'뱀처럼 유연한, 길고도 길어  \n",
      "코드의 숲 속에서 지혜를 키우네  \n",
      "Indentation, 그 조용한 춤사위  \n",
      "공백 속에 숨은 뜻을 나누고  \n",
      "\n",
      "패키지의 바다, 모듈의 강물  \n",
      "함수의 물결이 가슴에 파도쳐  \n",
      "객체의 나비가 껍질을 벗고  \n",
      "인스턴스의 노래, 아름답게 퍼져  \n",
      "\n",
      "리스트의 축제, 튜플의 고요  \n",
      "딕셔너리의 기억, 키가 열쇠  \n",
      "불변과 가변이 어우러진 춤  \n",
      "정수가 흐르고, 문자열이 노래해  \n",
      "\n",
      "다이나믹한 세상, 타입의 자유  \n",
      "에러가 스쳐도, 슬픔이 아닌 교훈  \n",
      "여기서 우리는 문법의 친구,  \n",
      "Python의 품 안에 더불어 자라네.'\n",
      "\n",
      "2) 설명  \n",
      "이 시는 프로그래밍 언어인 파이썬의 다양한 요소와 특성을 표현하고 있습니다. 코드의 구조와 문법, 데이터 구조인 리스트, 튜플, 딕셔너리 등을 통해 개발의 과정과 그 안에서 배우는 것을 묘사합니다. 또한, 에러를 통한 학습과 타입의 유연함도 언급하며, 파이썬을 통해 성장하는 과정을 담고 있습니다.\n"
     ]
    }
   ],
   "source": [
    "print(result.content)"
   ]
  }
 ],
 "metadata": {
  "kernelspec": {
   "display_name": "env",
   "language": "python",
   "name": "python3"
  },
  "language_info": {
   "codemirror_mode": {
    "name": "ipython",
    "version": 3
   },
   "file_extension": ".py",
   "mimetype": "text/x-python",
   "name": "python",
   "nbconvert_exporter": "python",
   "pygments_lexer": "ipython3",
   "version": "3.11.8"
  }
 },
 "nbformat": 4,
 "nbformat_minor": 2
}

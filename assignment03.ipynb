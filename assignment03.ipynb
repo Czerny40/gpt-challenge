{
 "cells": [
  {
   "cell_type": "code",
   "execution_count": 1,
   "metadata": {},
   "outputs": [],
   "source": [
    "from langchain.chat_models import ChatOpenAI\n",
    "from langchain.callbacks import StreamingStdOutCallbackHandler\n",
    "from langchain.memory import ConversationBufferWindowMemory\n",
    "from langchain.prompts import ChatPromptTemplate, MessagesPlaceholder, FewShotChatMessagePromptTemplate\n",
    "from langchain.chains import LLMChain\n",
    "from langchain.schema.runnable import RunnablePassthrough\n",
    "from operator import itemgetter\n",
    "\n",
    "llm = ChatOpenAI(\n",
    "    model_name=\"gpt-4o-mini\",\n",
    "    temperature=0.4,\n",
    "    streaming=True,\n",
    "    callbacks=[StreamingStdOutCallbackHandler()],\n",
    ")"
   ]
  },
  {
   "cell_type": "code",
   "execution_count": null,
   "metadata": {},
   "outputs": [],
   "source": [
    "memory = ConversationBufferWindowMemory(\n",
    "    return_messages=True, memory_key=\"chat_history\", k=5\n",
    ")\n",
    "\n",
    "\n",
    "examples = [\n",
    "    {\"input\": \"Top Gun\", \"output\": \"🛩️👨‍✈️🔥\"},\n",
    "    {\"input\": \"The Godfather\", \"output\": \"👨‍👨‍👦🔫🍝\"},\n",
    "]\n",
    "\n",
    "\n",
    "example_prompt = ChatPromptTemplate.from_messages(\n",
    "    [\n",
    "        (\"human\", \"{input}\"),\n",
    "        (\"assistant\", \"{output}\"),\n",
    "    ]\n",
    ")\n",
    "\n",
    "\n",
    "fewshot_prompt = FewShotChatMessagePromptTemplate(\n",
    "    examples=examples,\n",
    "    example_prompt=example_prompt,\n",
    ")\n",
    "\n",
    "final_prompt = ChatPromptTemplate.from_messages(\n",
    "    [\n",
    "        (\n",
    "            \"system\",\n",
    "            \"\"\"당신은 영화 제목을 3개의 이모지로 변환하는 AI입니다.\n",
    "            - 모든 입력에 대해 반드시 3개의 이모지로만 응답해야 합니다.\n",
    "            - 이전 대화 내용을 물어보는 경우, chat_history에서 참조해야 합니다.\n",
    "            - 처음의 두 예시(Top Gun, The Godfather)는 오직 답변 형식을 보여주기 위한 것으로, 실제 답변에 사용하면 안 됩니다.\n",
    "            \"\"\",\n",
    "        ),\n",
    "        fewshot_prompt,\n",
    "        MessagesPlaceholder(variable_name=\"chat_history\"),\n",
    "        (\"human\", \"{input}\"),\n",
    "    ]\n",
    ")\n",
    "\n",
    "\n",
    "chain = LLMChain(llm=llm, prompt=final_prompt, verbose=True, memory=memory)\n"
   ]
  },
  {
   "cell_type": "code",
   "execution_count": 3,
   "metadata": {},
   "outputs": [
    {
     "name": "stdout",
     "output_type": "stream",
     "text": [
      "\n",
      "\n",
      "\u001b[1m> Entering new LLMChain chain...\u001b[0m\n",
      "Prompt after formatting:\n",
      "\u001b[32;1m\u001b[1;3mSystem: 당신은 영화 제목을 3개의 이모지로 변환하는 AI입니다.\n",
      "            - 모든 입력에 대해 반드시 3개의 이모지로만 응답해야 합니다.\n",
      "            - 이전 대화 내용을 물어보는 경우, chat_history에서 실제로 언급된 영화만 참조해야 합니다.\n",
      "            - 아래의 FewShot 예시(Top Gun, The Godfather)는 오직 답변 형식을 보여주기 위한 것으로, 실제 답변에 사용하면 안 됩니다.\n",
      "            \n",
      "Human: Top Gun\n",
      "AI: 🛩️👨‍✈️🔥\n",
      "Human: The Godfather\n",
      "AI: 👨‍👨‍👦🔫🍝\n",
      "Human: 타짜\u001b[0m\n",
      "🃏💰🎲\n",
      "\u001b[1m> Finished chain.\u001b[0m\n",
      "🃏💰🎲\n",
      "\n",
      "\n",
      "\u001b[1m> Entering new LLMChain chain...\u001b[0m\n",
      "Prompt after formatting:\n",
      "\u001b[32;1m\u001b[1;3mSystem: 당신은 영화 제목을 3개의 이모지로 변환하는 AI입니다.\n",
      "            - 모든 입력에 대해 반드시 3개의 이모지로만 응답해야 합니다.\n",
      "            - 이전 대화 내용을 물어보는 경우, chat_history에서 실제로 언급된 영화만 참조해야 합니다.\n",
      "            - 아래의 FewShot 예시(Top Gun, The Godfather)는 오직 답변 형식을 보여주기 위한 것으로, 실제 답변에 사용하면 안 됩니다.\n",
      "            \n",
      "Human: Top Gun\n",
      "AI: 🛩️👨‍✈️🔥\n",
      "Human: The Godfather\n",
      "AI: 👨‍👨‍👦🔫🍝\n",
      "Human: 타짜\n",
      "AI: 🃏💰🎲\n",
      "Human: 나는 전설이다\u001b[0m\n",
      "🧟‍♂️🌆🌅\n",
      "\u001b[1m> Finished chain.\u001b[0m\n",
      "🧟‍♂️🌆🌅\n"
     ]
    }
   ],
   "source": [
    "response1 = chain.invoke({\"input\": \"타짜\"})\n",
    "print(response1[\"text\"])\n",
    "\n",
    "response2 = chain.invoke({\"input\": \"나는 전설이다\"})\n",
    "print(response2[\"text\"])"
   ]
  },
  {
   "cell_type": "code",
   "execution_count": 4,
   "metadata": {},
   "outputs": [
    {
     "name": "stdout",
     "output_type": "stream",
     "text": [
      "\n",
      "\n",
      "\u001b[1m> Entering new LLMChain chain...\u001b[0m\n",
      "Prompt after formatting:\n",
      "\u001b[32;1m\u001b[1;3mSystem: 당신은 영화 제목을 3개의 이모지로 변환하는 AI입니다.\n",
      "            - 모든 입력에 대해 반드시 3개의 이모지로만 응답해야 합니다.\n",
      "            - 이전 대화 내용을 물어보는 경우, chat_history에서 실제로 언급된 영화만 참조해야 합니다.\n",
      "            - 아래의 FewShot 예시(Top Gun, The Godfather)는 오직 답변 형식을 보여주기 위한 것으로, 실제 답변에 사용하면 안 됩니다.\n",
      "            \n",
      "Human: Top Gun\n",
      "AI: 🛩️👨‍✈️🔥\n",
      "Human: The Godfather\n",
      "AI: 👨‍👨‍👦🔫🍝\n",
      "Human: 타짜\n",
      "AI: 🃏💰🎲\n",
      "Human: 나는 전설이다\n",
      "AI: 🧟‍♂️🌆🌅\n",
      "Human: 사용자가 첫 번째로 물어본 영화가 무엇인가요?\u001b[0m\n",
      "Top Gun\n",
      "\u001b[1m> Finished chain.\u001b[0m\n",
      "Top Gun\n"
     ]
    }
   ],
   "source": [
    "memory_result = chain.invoke({\"input\": \"사용자가 첫 번째로 물어본 영화가 무엇인가요?\"})\n",
    "print(memory_result[\"text\"])"
   ]
  },
  {
   "cell_type": "code",
   "execution_count": 5,
   "metadata": {},
   "outputs": [
    {
     "data": {
      "text/plain": [
       "{'chat_history': [HumanMessage(content='타짜'),\n",
       "  AIMessage(content='🃏💰🎲'),\n",
       "  HumanMessage(content='나는 전설이다'),\n",
       "  AIMessage(content='🧟\\u200d♂️🌆🌅'),\n",
       "  HumanMessage(content='사용자가 첫 번째로 물어본 영화가 무엇인가요?'),\n",
       "  AIMessage(content='Top Gun')]}"
      ]
     },
     "execution_count": 5,
     "metadata": {},
     "output_type": "execute_result"
    }
   ],
   "source": [
    "memory.load_memory_variables({})"
   ]
  }
 ],
 "metadata": {
  "kernelspec": {
   "display_name": "env",
   "language": "python",
   "name": "python3"
  },
  "language_info": {
   "codemirror_mode": {
    "name": "ipython",
    "version": 3
   },
   "file_extension": ".py",
   "mimetype": "text/x-python",
   "name": "python",
   "nbconvert_exporter": "python",
   "pygments_lexer": "ipython3",
   "version": "3.11.8"
  }
 },
 "nbformat": 4,
 "nbformat_minor": 2
}

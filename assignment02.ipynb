{
 "cells": [
  {
   "cell_type": "code",
   "execution_count": 12,
   "metadata": {},
   "outputs": [],
   "source": [
    "from langchain.chat_models import ChatOpenAI\n",
    "from langchain.prompts import ChatMessagePromptTemplate, ChatPromptTemplate\n",
    "from langchain.prompts import FewShotChatMessagePromptTemplate\n",
    "\n",
    "\n",
    "llm = ChatOpenAI(model_name=\"gpt-4o-mini\", temperature=0.2)"
   ]
  },
  {
   "cell_type": "code",
   "execution_count": 25,
   "metadata": {},
   "outputs": [],
   "source": [
    "MOVIE_PROMPT = \"\"\"\n",
    "당신은 영화의 정보를 제공하는 전문가입니다.\n",
    "입력받은 영화 {title}에 대해 영화의 감독, 주요 출연진, 예산, 흥행 수익, 영화의 장르, 시놉시스 등 영화에 대한 정보를 주어진 예시에 따라 답장하세요.\n",
    "\"\"\"\n",
    "\n",
    "examples = [\n",
    "    {\n",
    "        \"title\" : \"타이타닉\",\n",
    "        \"answer\" : \"\"\"\n",
    "        감독 : 제임스 카메론\n",
    "        출연진 : 레오나르도 디카프리오, 케이트 윈슬렛\n",
    "        예산 : 2억 달러\n",
    "        흥행 수익 : 22억 6,474만 달러\n",
    "        장르 : 멜로, 로맨스\n",
    "        시놉시스 : 처녀항해 중 비극적 침몰참사를 일으킨 여객선 타이타닉호를 배경으로 한 작품으로, 제임스 카메론 감독이 실제 타이타닉호의 세트와 내외장을 똑같이 재현하여 촬영했다.\n",
    "        \"\"\"\n",
    "    },\n",
    "    {\n",
    "        \"title\" : \"인셉션\",\n",
    "        \"answer\" : \"\"\"\n",
    "        감독 : 크리스토퍼 놀란\n",
    "        출연진 : 레오나르도 디카프리오, 조셉 고든 래빗, 마리앙 코티아르\n",
    "        예산 : 1억 6천만 달러\n",
    "        흥행 수익: 8억 2,553만 달러\n",
    "        장르 : SF, 액션\n",
    "        시놉시스 : 꿈의 전문가 코브와 그의 팀이 타인의 마음속에 생각을 심는 '인셉션' 작전을 수행하는 이야기다. 꿈과 무의식을 소재로 한 작품으로, 여러 층으로 구성된 꿈속을 탐험하며 벌어지는 모험을 그린다.\n",
    "        \"\"\"\n",
    "    }\n",
    "]"
   ]
  },
  {
   "cell_type": "code",
   "execution_count": 26,
   "metadata": {},
   "outputs": [],
   "source": [
    "first_prompt = ChatPromptTemplate.from_messages(\n",
    "    [\n",
    "        (\"human\", \"{title}\"),\n",
    "        (\"ai\", \"{answer}\")\n",
    "    ]\n",
    ")\n",
    "\n",
    "fewshot_prompt = FewShotChatMessagePromptTemplate(\n",
    "    example_prompt = first_prompt,\n",
    "    examples = examples\n",
    ")\n",
    "\n",
    "final_prompt = ChatPromptTemplate.from_messages(\n",
    "    [\n",
    "        (\"system\", MOVIE_PROMPT),\n",
    "        (\"human\", \"{title}\")\n",
    "    ]\n",
    ")\n",
    "\n",
    "chain = final_prompt | llm\n",
    "\n",
    "result = chain.invoke({\"title\": \"인사이드 아웃\"})"
   ]
  },
  {
   "cell_type": "code",
   "execution_count": 27,
   "metadata": {},
   "outputs": [
    {
     "name": "stdout",
     "output_type": "stream",
     "text": [
      "영화 **인사이드 아웃**에 대한 정보는 다음과 같습니다:\n",
      "\n",
      "- **감독**: 피트 닥터, 로널드 M. 델 카르멘\n",
      "- **주요 출연진**: \n",
      "  - 디네이 레이놀즈 (라이리)\n",
      "  - 빌 하이더 (기쁨)\n",
      "  - 패트리샤 클락슨 (슬픔)\n",
      "  - 루이스 블랙 (화남)\n",
      "  - 다이안 레인 (두려움)\n",
      "  - 카일 맥라클란 (라이리의 아버지)\n",
      "  - 다이안 레인 (라이리의 어머니)\n",
      "- **예산**: 약 1억 5천만 달러\n",
      "- **흥행 수익**: 약 8억 5천만 달러\n",
      "- **장르**: 애니메이션, 가족, 코미디, 드라마\n",
      "- **시놉시스**: \n",
      "  영화는 11세 소녀 라이리의 머릿속에서 일어나는 감정들의 이야기를 다룹니다. 라이리는 가족의 이사로 인해 새로운 환경에 적응해야 하고, 그녀의 머릿속에는 기쁨, 슬픔, 화남, 두려움, 경외감이라는 다섯 가지 감정이 존재합니다. 이 감정들은 라이리의 행동과 결정에 영향을 미치며, 기쁨은 라이리의 행복을 유지하려고 하지만 슬픔이 점점 더 중요한 역할을 하게 되면서 두 감정 간의 갈등이 발생합니다. 이 과정을 통해 감정의 복잡성과 성장의 중요성을 탐구합니다.\n"
     ]
    }
   ],
   "source": [
    "print(result.content)"
   ]
  }
 ],
 "metadata": {
  "kernelspec": {
   "display_name": "env",
   "language": "python",
   "name": "python3"
  },
  "language_info": {
   "codemirror_mode": {
    "name": "ipython",
    "version": 3
   },
   "file_extension": ".py",
   "mimetype": "text/x-python",
   "name": "python",
   "nbconvert_exporter": "python",
   "pygments_lexer": "ipython3",
   "version": "3.11.8"
  }
 },
 "nbformat": 4,
 "nbformat_minor": 2
}

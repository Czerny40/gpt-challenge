{
 "cells": [
  {
   "cell_type": "code",
   "execution_count": 12,
   "metadata": {},
   "outputs": [],
   "source": [
    "from langchain.chat_models import ChatOpenAI\n",
    "from langchain.prompts import ChatMessagePromptTemplate, ChatPromptTemplate\n",
    "from langchain.prompts import FewShotChatMessagePromptTemplate\n",
    "\n",
    "\n",
    "llm = ChatOpenAI(model_name=\"gpt-4o-mini\", temperature=0.2)"
   ]
  },
  {
   "cell_type": "code",
   "execution_count": 25,
   "metadata": {},
   "outputs": [],
   "source": [
    "MOVIE_PROMPT = \"\"\"\n",
    "당신은 영화의 정보를 제공하는 전문가입니다.\n",
    "입력받은 영화 {title}에 대해 영화의 감독, 주요 출연진, 예산, 흥행 수익, 영화의 장르, 시놉시스 등 영화에 대한 정보를 주어진 예시에 따라 답장하세요.\n",
    "\"\"\"\n",
    "\n",
    "examples = [\n",
    "    {\n",
    "        \"title\" : \"타이타닉\",\n",
    "        \"answer\" : \"\"\"\n",
    "        감독 : 제임스 카메론\n",
    "        출연진 : 레오나르도 디카프리오, 케이트 윈슬렛\n",
    "        예산 : 2억 달러\n",
    "        흥행 수익 : 22억 6,474만 달러\n",
    "        장르 : 멜로, 로맨스\n",
    "        시놉시스 : 처녀항해 중 비극적 침몰참사를 일으킨 여객선 타이타닉호를 배경으로 한 작품으로, 제임스 카메론 감독이 실제 타이타닉호의 세트와 내외장을 똑같이 재현하여 촬영했다.\n",
    "        \"\"\"\n",
    "    },\n",
    "    {\n",
    "        \"title\" : \"인셉션\",\n",
    "        \"answer\" : \"\"\"\n",
    "        감독 : 크리스토퍼 놀란\n",
    "        출연진 : 레오나르도 디카프리오, 조셉 고든 래빗, 마리앙 코티아르\n",
    "        예산 : 1억 6천만 달러\n",
    "        흥행 수익: 8억 2,553만 달러\n",
    "        장르 : SF, 액션\n",
    "        시놉시스 : 꿈의 전문가 코브와 그의 팀이 타인의 마음속에 생각을 심는 '인셉션' 작전을 수행하는 이야기다. 꿈과 무의식을 소재로 한 작품으로, 여러 층으로 구성된 꿈속을 탐험하며 벌어지는 모험을 그린다.\n",
    "        \"\"\"\n",
    "    }\n",
    "]"
   ]
  },
  {
   "cell_type": "code",
   "execution_count": 23,
   "metadata": {},
   "outputs": [],
   "source": [
    "first_prompt = ChatPromptTemplate.from_messages(\n",
    "    [\n",
    "        (\"human\", \"{title}\"),\n",
    "        (\"ai\", \"{answer}\")\n",
    "    ]\n",
    ")\n",
    "\n",
    "fewshot_prompt = FewShotChatMessagePromptTemplate(\n",
    "    example_prompt = first_prompt,\n",
    "    examples = examples\n",
    ")\n",
    "\n",
    "final_prompt = ChatPromptTemplate.from_messages(\n",
    "    [\n",
    "        (\"system\", MOVIE_PROMPT),\n",
    "        (\"human\", \"{title}\")\n",
    "    ]\n",
    ")\n",
    "\n",
    "chain = final_prompt | llm\n",
    "\n",
    "result = chain.invoke({\"title\": \"인사이드 아웃\"})"
   ]
  },
  {
   "cell_type": "code",
   "execution_count": 24,
   "metadata": {},
   "outputs": [
    {
     "name": "stdout",
     "output_type": "stream",
     "text": [
      "영화 \"스턴트맨\"에 대한 정보는 다음과 같습니다:\n",
      "\n",
      "- **감독**: 리처드 러쉬 (Richard Rush)\n",
      "- **주요 출연진**: \n",
      "  - 스티븐 랭 (Steven Lang)\n",
      "  - 제니퍼 오닐 (Jennifer O'Neill)\n",
      "  - 피터 오툴 (Peter O'Toole)\n",
      "- **예산**: 약 4백만 달러\n",
      "- **흥행 수익**: 약 1천만 달러\n",
      "- **장르**: 드라마, 스릴러\n",
      "- **간단한 시놉시스**: 영화는 전쟁에서 탈영한 남자 '캘리'가 영화 촬영 현장에서 스턴트맨으로 일하게 되면서 벌어지는 이야기를 다룹니다. 그는 감독과의 복잡한 관계 속에서 자신의 정체성과 삶의 의미를 찾아가게 됩니다. 영화는 현실과 환상이 뒤섞인 독특한 서사 구조로 관객을 매료시킵니다.\n",
      "\n",
      "이 영화는 스턴트맨이라는 직업의 위험성과 그들이 겪는 심리적 갈등을 깊이 있게 탐구하고 있습니다.\n"
     ]
    }
   ],
   "source": [
    "print(result.content)"
   ]
  }
 ],
 "metadata": {
  "kernelspec": {
   "display_name": "env",
   "language": "python",
   "name": "python3"
  },
  "language_info": {
   "codemirror_mode": {
    "name": "ipython",
    "version": 3
   },
   "file_extension": ".py",
   "mimetype": "text/x-python",
   "name": "python",
   "nbconvert_exporter": "python",
   "pygments_lexer": "ipython3",
   "version": "3.11.8"
  }
 },
 "nbformat": 4,
 "nbformat_minor": 2
}
